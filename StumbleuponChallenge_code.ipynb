{
  "nbformat": 4,
  "nbformat_minor": 0,
  "metadata": {
    "colab": {
      "name": "StumbleuponChallenge.ipynb",
      "provenance": []
    },
    "kernelspec": {
      "name": "python3",
      "display_name": "Python 3"
    }
  },
  "cells": [
    {
      "cell_type": "markdown",
      "metadata": {
        "id": "zdCned_RRQBn"
      },
      "source": [
        "###Assignment"
      ]
    },
    {
      "cell_type": "code",
      "metadata": {
        "id": "_Az_JmbXuD1Z"
      },
      "source": [
        "import pandas as pd \r\n",
        "import numpy as np \r\n",
        "\r\n",
        "import matplotlib.pyplot as plt \r\n",
        "import seaborn as sns \r\n",
        "%matplotlib inline \r\n",
        "\r\n",
        "import tensorflow as tf\r\n",
        "import re\r\n"
      ],
      "execution_count": 1,
      "outputs": []
    },
    {
      "cell_type": "markdown",
      "metadata": {
        "id": "_74wposaRKT7"
      },
      "source": [
        "##Data Visualization"
      ]
    },
    {
      "cell_type": "code",
      "metadata": {
        "id": "Glf285eGu5GU"
      },
      "source": [
        "df_train=pd.read_csv('/content/drive/MyDrive/StumbleUpon/train.tsv',sep='\\t')"
      ],
      "execution_count": 3,
      "outputs": []
    },
    {
      "cell_type": "code",
      "metadata": {
        "id": "1Py-12HosYhB"
      },
      "source": [
        "df_test_main=pd.read_csv('/content/drive/MyDrive/StumbleUpon/test.tsv',sep='\\t',usecols=['urlid','boilerplate'])"
      ],
      "execution_count": 4,
      "outputs": []
    },
    {
      "cell_type": "code",
      "metadata": {
        "colab": {
          "base_uri": "https://localhost:8080/"
        },
        "id": "qWEOxNSaoXMO",
        "outputId": "2cdc24be-9fe1-46fd-ea9d-0d4e07213443"
      },
      "source": [
        "df_train.columns"
      ],
      "execution_count": null,
      "outputs": [
        {
          "output_type": "execute_result",
          "data": {
            "text/plain": [
              "Index(['url', 'urlid', 'boilerplate', 'alchemy_category',\n",
              "       'alchemy_category_score', 'avglinksize', 'commonlinkratio_1',\n",
              "       'commonlinkratio_2', 'commonlinkratio_3', 'commonlinkratio_4',\n",
              "       'compression_ratio', 'embed_ratio', 'framebased', 'frameTagRatio',\n",
              "       'hasDomainLink', 'html_ratio', 'image_ratio', 'is_news',\n",
              "       'lengthyLinkDomain', 'linkwordscore', 'news_front_page',\n",
              "       'non_markup_alphanum_characters', 'numberOfLinks', 'numwords_in_url',\n",
              "       'parametrizedLinkRatio', 'spelling_errors_ratio', 'label'],\n",
              "      dtype='object')"
            ]
          },
          "metadata": {
            "tags": []
          },
          "execution_count": 41
        }
      ]
    },
    {
      "cell_type": "code",
      "metadata": {
        "colab": {
          "base_uri": "https://localhost:8080/",
          "height": 530
        },
        "id": "CszA9ACxwsy_",
        "outputId": "ac0cf463-319c-4106-e4f9-1ba9ec60b9b8"
      },
      "source": [
        "df_train.head()"
      ],
      "execution_count": null,
      "outputs": [
        {
          "output_type": "execute_result",
          "data": {
            "text/html": [
              "<div>\n",
              "<style scoped>\n",
              "    .dataframe tbody tr th:only-of-type {\n",
              "        vertical-align: middle;\n",
              "    }\n",
              "\n",
              "    .dataframe tbody tr th {\n",
              "        vertical-align: top;\n",
              "    }\n",
              "\n",
              "    .dataframe thead th {\n",
              "        text-align: right;\n",
              "    }\n",
              "</style>\n",
              "<table border=\"1\" class=\"dataframe\">\n",
              "  <thead>\n",
              "    <tr style=\"text-align: right;\">\n",
              "      <th></th>\n",
              "      <th>url</th>\n",
              "      <th>urlid</th>\n",
              "      <th>boilerplate</th>\n",
              "      <th>alchemy_category</th>\n",
              "      <th>alchemy_category_score</th>\n",
              "      <th>avglinksize</th>\n",
              "      <th>commonlinkratio_1</th>\n",
              "      <th>commonlinkratio_2</th>\n",
              "      <th>commonlinkratio_3</th>\n",
              "      <th>commonlinkratio_4</th>\n",
              "      <th>compression_ratio</th>\n",
              "      <th>embed_ratio</th>\n",
              "      <th>framebased</th>\n",
              "      <th>frameTagRatio</th>\n",
              "      <th>hasDomainLink</th>\n",
              "      <th>html_ratio</th>\n",
              "      <th>image_ratio</th>\n",
              "      <th>is_news</th>\n",
              "      <th>lengthyLinkDomain</th>\n",
              "      <th>linkwordscore</th>\n",
              "      <th>news_front_page</th>\n",
              "      <th>non_markup_alphanum_characters</th>\n",
              "      <th>numberOfLinks</th>\n",
              "      <th>numwords_in_url</th>\n",
              "      <th>parametrizedLinkRatio</th>\n",
              "      <th>spelling_errors_ratio</th>\n",
              "      <th>label</th>\n",
              "    </tr>\n",
              "  </thead>\n",
              "  <tbody>\n",
              "    <tr>\n",
              "      <th>0</th>\n",
              "      <td>http://www.bloomberg.com/news/2010-12-23/ibm-p...</td>\n",
              "      <td>4042</td>\n",
              "      <td>{\"title\":\"IBM Sees Holographic Calls Air Breat...</td>\n",
              "      <td>business</td>\n",
              "      <td>0.789131</td>\n",
              "      <td>2.055556</td>\n",
              "      <td>0.676471</td>\n",
              "      <td>0.205882</td>\n",
              "      <td>0.047059</td>\n",
              "      <td>0.023529</td>\n",
              "      <td>0.443783</td>\n",
              "      <td>0.0</td>\n",
              "      <td>0</td>\n",
              "      <td>0.090774</td>\n",
              "      <td>0</td>\n",
              "      <td>0.245831</td>\n",
              "      <td>0.003883</td>\n",
              "      <td>1</td>\n",
              "      <td>1</td>\n",
              "      <td>24</td>\n",
              "      <td>0</td>\n",
              "      <td>5424</td>\n",
              "      <td>170</td>\n",
              "      <td>8</td>\n",
              "      <td>0.152941</td>\n",
              "      <td>0.079130</td>\n",
              "      <td>0</td>\n",
              "    </tr>\n",
              "    <tr>\n",
              "      <th>1</th>\n",
              "      <td>http://www.popsci.com/technology/article/2012-...</td>\n",
              "      <td>8471</td>\n",
              "      <td>{\"title\":\"The Fully Electronic Futuristic Star...</td>\n",
              "      <td>recreation</td>\n",
              "      <td>0.574147</td>\n",
              "      <td>3.677966</td>\n",
              "      <td>0.508021</td>\n",
              "      <td>0.288770</td>\n",
              "      <td>0.213904</td>\n",
              "      <td>0.144385</td>\n",
              "      <td>0.468649</td>\n",
              "      <td>0.0</td>\n",
              "      <td>0</td>\n",
              "      <td>0.098707</td>\n",
              "      <td>0</td>\n",
              "      <td>0.203490</td>\n",
              "      <td>0.088652</td>\n",
              "      <td>1</td>\n",
              "      <td>1</td>\n",
              "      <td>40</td>\n",
              "      <td>0</td>\n",
              "      <td>4973</td>\n",
              "      <td>187</td>\n",
              "      <td>9</td>\n",
              "      <td>0.181818</td>\n",
              "      <td>0.125448</td>\n",
              "      <td>1</td>\n",
              "    </tr>\n",
              "    <tr>\n",
              "      <th>2</th>\n",
              "      <td>http://www.menshealth.com/health/flu-fighting-...</td>\n",
              "      <td>1164</td>\n",
              "      <td>{\"title\":\"Fruits that Fight the Flu fruits tha...</td>\n",
              "      <td>health</td>\n",
              "      <td>0.996526</td>\n",
              "      <td>2.382883</td>\n",
              "      <td>0.562016</td>\n",
              "      <td>0.321705</td>\n",
              "      <td>0.120155</td>\n",
              "      <td>0.042636</td>\n",
              "      <td>0.525448</td>\n",
              "      <td>0.0</td>\n",
              "      <td>0</td>\n",
              "      <td>0.072448</td>\n",
              "      <td>0</td>\n",
              "      <td>0.226402</td>\n",
              "      <td>0.120536</td>\n",
              "      <td>1</td>\n",
              "      <td>1</td>\n",
              "      <td>55</td>\n",
              "      <td>0</td>\n",
              "      <td>2240</td>\n",
              "      <td>258</td>\n",
              "      <td>11</td>\n",
              "      <td>0.166667</td>\n",
              "      <td>0.057613</td>\n",
              "      <td>1</td>\n",
              "    </tr>\n",
              "    <tr>\n",
              "      <th>3</th>\n",
              "      <td>http://www.dumblittleman.com/2007/12/10-foolpr...</td>\n",
              "      <td>6684</td>\n",
              "      <td>{\"title\":\"10 Foolproof Tips for Better Sleep \"...</td>\n",
              "      <td>health</td>\n",
              "      <td>0.801248</td>\n",
              "      <td>1.543103</td>\n",
              "      <td>0.400000</td>\n",
              "      <td>0.100000</td>\n",
              "      <td>0.016667</td>\n",
              "      <td>0.000000</td>\n",
              "      <td>0.480725</td>\n",
              "      <td>0.0</td>\n",
              "      <td>0</td>\n",
              "      <td>0.095861</td>\n",
              "      <td>0</td>\n",
              "      <td>0.265656</td>\n",
              "      <td>0.035343</td>\n",
              "      <td>1</td>\n",
              "      <td>0</td>\n",
              "      <td>24</td>\n",
              "      <td>0</td>\n",
              "      <td>2737</td>\n",
              "      <td>120</td>\n",
              "      <td>5</td>\n",
              "      <td>0.041667</td>\n",
              "      <td>0.100858</td>\n",
              "      <td>1</td>\n",
              "    </tr>\n",
              "    <tr>\n",
              "      <th>4</th>\n",
              "      <td>http://bleacherreport.com/articles/1205138-the...</td>\n",
              "      <td>9006</td>\n",
              "      <td>{\"title\":\"The 50 Coolest Jerseys You Didn t Kn...</td>\n",
              "      <td>sports</td>\n",
              "      <td>0.719157</td>\n",
              "      <td>2.676471</td>\n",
              "      <td>0.500000</td>\n",
              "      <td>0.222222</td>\n",
              "      <td>0.123457</td>\n",
              "      <td>0.043210</td>\n",
              "      <td>0.446143</td>\n",
              "      <td>0.0</td>\n",
              "      <td>0</td>\n",
              "      <td>0.024908</td>\n",
              "      <td>0</td>\n",
              "      <td>0.228887</td>\n",
              "      <td>0.050473</td>\n",
              "      <td>1</td>\n",
              "      <td>1</td>\n",
              "      <td>14</td>\n",
              "      <td>0</td>\n",
              "      <td>12032</td>\n",
              "      <td>162</td>\n",
              "      <td>10</td>\n",
              "      <td>0.098765</td>\n",
              "      <td>0.082569</td>\n",
              "      <td>0</td>\n",
              "    </tr>\n",
              "  </tbody>\n",
              "</table>\n",
              "</div>"
            ],
            "text/plain": [
              "                                                 url  ...  label\n",
              "0  http://www.bloomberg.com/news/2010-12-23/ibm-p...  ...      0\n",
              "1  http://www.popsci.com/technology/article/2012-...  ...      1\n",
              "2  http://www.menshealth.com/health/flu-fighting-...  ...      1\n",
              "3  http://www.dumblittleman.com/2007/12/10-foolpr...  ...      1\n",
              "4  http://bleacherreport.com/articles/1205138-the...  ...      0\n",
              "\n",
              "[5 rows x 27 columns]"
            ]
          },
          "metadata": {
            "tags": []
          },
          "execution_count": 43
        }
      ]
    },
    {
      "cell_type": "code",
      "metadata": {
        "colab": {
          "base_uri": "https://localhost:8080/"
        },
        "id": "9ES1-68fseCu",
        "outputId": "ac4a2bfc-2312-4c3a-d526-ba044a89a953"
      },
      "source": [
        "df_train['alchemy_category'].value_counts()"
      ],
      "execution_count": null,
      "outputs": [
        {
          "output_type": "execute_result",
          "data": {
            "text/plain": [
              "?                     2342\n",
              "recreation            1229\n",
              "arts_entertainment     941\n",
              "business               880\n",
              "health                 506\n",
              "sports                 380\n",
              "culture_politics       343\n",
              "computer_internet      296\n",
              "science_technology     289\n",
              "gaming                  76\n",
              "religion                72\n",
              "law_crime               31\n",
              "unknown                  6\n",
              "weather                  4\n",
              "Name: alchemy_category, dtype: int64"
            ]
          },
          "metadata": {
            "tags": []
          },
          "execution_count": 44
        }
      ]
    },
    {
      "cell_type": "code",
      "metadata": {
        "colab": {
          "base_uri": "https://localhost:8080/",
          "height": 694
        },
        "id": "V13em_iJskdV",
        "outputId": "79886aae-d49b-490c-bfd5-49e65aa635cd"
      },
      "source": [
        "plt.figure(figsize=(15,10))\r\n",
        "sns.countplot(x=df_train['alchemy_category'],hue=df_train['label']);\r\n",
        "plt.xlabel('Category');\r\n",
        "plt.xticks(rotation=90);"
      ],
      "execution_count": 5,
      "outputs": [
        {
          "output_type": "display_data",
          "data": {
            "image/png": "[encoded data removed]",
            "text/plain": [
              "<Figure size 1080x720 with 1 Axes>"
            ]
          },
          "metadata": {
            "tags": [],
            "needs_background": "light"
          }
        }
      ]
    },
    {
      "cell_type": "code",
      "metadata": {
        "colab": {
          "base_uri": "https://localhost:8080/",
          "height": 296
        },
        "id": "fA3LtevWthR1",
        "outputId": "030b9b79-6dfd-4275-8987-d235219c5a6a"
      },
      "source": [
        "sns.countplot(x=df_train['label'])"
      ],
      "execution_count": 6,
      "outputs": [
        {
          "output_type": "execute_result",
          "data": {
            "text/plain": [
              "<matplotlib.axes._subplots.AxesSubplot at 0x7fe6c79a0450>"
            ]
          },
          "metadata": {
            "tags": []
          },
          "execution_count": 6
        },
        {
          "output_type": "display_data",
          "data": {
            "image/png": "[encoded data removed]",
            "text/plain": [
              "<Figure size 432x288 with 1 Axes>"
            ]
          },
          "metadata": {
            "tags": [],
            "needs_background": "light"
          }
        }
      ]
    },
    {
      "cell_type": "markdown",
      "metadata": {
        "id": "E10EREy8Q4i6"
      },
      "source": [
        "##Data Pre-processing and cleaning"
      ]
    },
    {
      "cell_type": "code",
      "metadata": {
        "id": "K--0O6ldxkSw"
      },
      "source": [
        "def clean_text(\r\n",
        "    string: str, \r\n",
        "    punctuations=r'''!()-[]{};:'\"\\,<>./?@#$%^&*_~''',\r\n",
        "    stop_words=['the', 'a', 'and', 'is', 'be', 'will']) -> str:\r\n",
        "    \"\"\"\r\n",
        "    A method to clean text \r\n",
        "    \"\"\"\r\n",
        "    # Cleaning the urls\r\n",
        "    string = re.sub(r'https?://\\S+|www\\.\\S+', '', string)\r\n",
        "\r\n",
        "    # Cleaning the html elements\r\n",
        "    string = re.sub(r'<.*?>', '', string)\r\n",
        "\r\n",
        "    # Removing the punctuations\r\n",
        "    for x in string.lower(): \r\n",
        "        if x in punctuations: \r\n",
        "            string = string.replace(x, \"\") \r\n",
        "\r\n",
        "    # Converting the text to lower\r\n",
        "    string = string.lower()\r\n",
        "\r\n",
        "    # Removing stop words\r\n",
        "    string = ' '.join([word for word in string.split() if word not in stop_words])\r\n",
        "\r\n",
        "    # Cleaning the whitespaces\r\n",
        "    string = re.sub(r'\\s+', ' ', string).strip()\r\n",
        "\r\n",
        "    return string "
      ],
      "execution_count": 9,
      "outputs": []
    },
    {
      "cell_type": "code",
      "metadata": {
        "id": "8fBQo0kYuArV"
      },
      "source": [
        "df_train['boilerplate'].replace(to_replace=r'\"title\":', value=\"\",inplace=True,regex=True)\r\n",
        "df_train['boilerplate'].replace(to_replace=r'\"url\":',value=\"\",inplace=True,regex=True)\r\n",
        "\r\n",
        "df_test_main['boilerplate'].replace(to_replace=r'\"title\":', value=\"\",inplace=True,regex=True)\r\n",
        "df_test_main['boilerplate'].replace(to_replace=r'\"url\":',value=\"\",inplace=True,regex=True)\r\n"
      ],
      "execution_count": 8,
      "outputs": []
    },
    {
      "cell_type": "code",
      "metadata": {
        "colab": {
          "base_uri": "https://localhost:8080/"
        },
        "id": "cV15uMkayBtE",
        "outputId": "c5202296-b390-470c-c9eb-f0a5ac0001bd"
      },
      "source": [
        "for i in range(0,len(df_train['boilerplate'])):\r\n",
        "  df_train['boilerplate'][i] = clean_text(df_train['boilerplate'][i])\r\n"
      ],
      "execution_count": 10,
      "outputs": [
        {
          "output_type": "stream",
          "text": [
            "/usr/local/lib/python3.7/dist-packages/ipykernel_launcher.py:2: SettingWithCopyWarning: \n",
            "A value is trying to be set on a copy of a slice from a DataFrame\n",
            "\n",
            "See the caveats in the documentation: https://pandas.pydata.org/pandas-docs/stable/user_guide/indexing.html#returning-a-view-versus-a-copy\n",
            "  \n"
          ],
          "name": "stderr"
        }
      ]
    },
    {
      "cell_type": "code",
      "metadata": {
        "colab": {
          "base_uri": "https://localhost:8080/"
        },
        "id": "n-_vdzWoEUEy",
        "outputId": "ce75d917-5d06-4c1d-98fb-054d6d139c15"
      },
      "source": [
        "for i in range(0,len(df_test_main['boilerplate'])):\r\n",
        "  df_test_main['boilerplate'][i] = clean_text(df_test_main['boilerplate'][i])"
      ],
      "execution_count": 22,
      "outputs": [
        {
          "output_type": "stream",
          "text": [
            "/usr/local/lib/python3.7/dist-packages/ipykernel_launcher.py:2: SettingWithCopyWarning: \n",
            "A value is trying to be set on a copy of a slice from a DataFrame\n",
            "\n",
            "See the caveats in the documentation: https://pandas.pydata.org/pandas-docs/stable/user_guide/indexing.html#returning-a-view-versus-a-copy\n",
            "  \n"
          ],
          "name": "stderr"
        }
      ]
    },
    {
      "cell_type": "markdown",
      "metadata": {
        "id": "tjBYVHWZQzEZ"
      },
      "source": [
        "##Train Test Split"
      ]
    },
    {
      "cell_type": "code",
      "metadata": {
        "id": "BOYGyqcMGOsT"
      },
      "source": [
        "import numpy as np\r\n",
        "from sklearn.model_selection import train_test_split\r\n",
        "X_train, X_test, Y_train, Y_test = train_test_split(df_train['boilerplate'], df_train['label'], test_size=0.3, random_state=4\r\n",
        ")"
      ],
      "execution_count": 11,
      "outputs": []
    },
    {
      "cell_type": "markdown",
      "metadata": {
        "id": "6_-92jdJQvEa"
      },
      "source": [
        "##Model Training"
      ]
    },
    {
      "cell_type": "code",
      "metadata": {
        "colab": {
          "base_uri": "https://localhost:8080/"
        },
        "id": "6DHqfkw8zZuN",
        "outputId": "6a63922b-d7cc-4e29-9ab2-d75c5c67f154"
      },
      "source": [
        "from gensim.models import Word2Vec\r\n",
        "import time\r\n",
        "import numpy as np\r\n",
        "# Skip-gram model (sg = 1)\r\n",
        "size = 1000\r\n",
        "window = 3\r\n",
        "min_count = 1\r\n",
        "workers = 3\r\n",
        "sg = 1\r\n",
        "\r\n",
        "word2vec_model_file = '/content/drive/MyDrive/StumbleUpon/Model' + 'word2vec_' + str(size) + '.model'\r\n",
        "start_time = time.time()\r\n",
        "stemmed_tokens = pd.Series(df_train['boilerplate']).values\r\n",
        "# Train the Word2Vec Model\r\n",
        "w2v_model = Word2Vec(stemmed_tokens, min_count = min_count, size = size, workers = workers, window = window, sg = sg)\r\n",
        "print(\"Time taken to train word2vec model: \" + str(time.time() - start_time))\r\n",
        "w2v_model.save(word2vec_model_file)"
      ],
      "execution_count": 12,
      "outputs": [
        {
          "output_type": "stream",
          "text": [
            "Time taken to train word2vec model: 156.1536509990692\n"
          ],
          "name": "stdout"
        }
      ]
    },
    {
      "cell_type": "code",
      "metadata": {
        "id": "WC7IF-Fr8EI0"
      },
      "source": [
        "# Load the model from the model file\r\n",
        "sg_w2v_model = Word2Vec.load('/content/drive/MyDrive/StumbleUpon/Model/Modelword2vec_1000.model')"
      ],
      "execution_count": 14,
      "outputs": []
    },
    {
      "cell_type": "markdown",
      "metadata": {
        "id": "zj5ncRHwQjYr"
      },
      "source": [
        "##Saving word embeddings"
      ]
    },
    {
      "cell_type": "code",
      "metadata": {
        "colab": {
          "base_uri": "https://localhost:8080/"
        },
        "id": "HS9kLCOpzbhZ",
        "outputId": "5e9f9c5e-f8e7-4cb7-9736-ca4988c06f1a"
      },
      "source": [
        "word2vec_filename = '/content/drive/MyDrive/StumbleUpon/Embeddings' + 'train_review_word2vec.csv'\r\n",
        "with open(word2vec_filename, 'w+') as word2vec_file:\r\n",
        "    for index, row in X_train.to_frame().iterrows():\r\n",
        "        model_vector = (np.mean([sg_w2v_model[token] for token in row['boilerplate']], axis=0)).tolist()\r\n",
        "        if index == 0:\r\n",
        "            header = \",\".join(str(ele) for ele in range(1000))\r\n",
        "            word2vec_file.write(header)\r\n",
        "            word2vec_file.write(\"\\n\")\r\n",
        "        # Check if the line exists else it is vector of zeros\r\n",
        "        if type(model_vector) is list:  \r\n",
        "            line1 = \",\".join( [str(vector_element) for vector_element in model_vector] )\r\n",
        "        else:\r\n",
        "            line1 = \",\".join([str(0) for i in range(1000)])\r\n",
        "        word2vec_file.write(line1)\r\n",
        "        word2vec_file.write('\\n')"
      ],
      "execution_count": 15,
      "outputs": [
        {
          "output_type": "stream",
          "text": [
            "/usr/local/lib/python3.7/dist-packages/ipykernel_launcher.py:4: DeprecationWarning: Call to deprecated `__getitem__` (Method will be removed in 4.0.0, use self.wv.__getitem__() instead).\n",
            "  after removing the cwd from sys.path.\n"
          ],
          "name": "stderr"
        }
      ]
    },
    {
      "cell_type": "markdown",
      "metadata": {
        "id": "_esw9pLYQcdm"
      },
      "source": [
        "## Fitting the Model"
      ]
    },
    {
      "cell_type": "code",
      "metadata": {
        "colab": {
          "base_uri": "https://localhost:8080/"
        },
        "id": "YMDMVHRv8RHJ",
        "outputId": "1049fb0d-533e-4515-a41a-88a1285f5e8e"
      },
      "source": [
        "import time\r\n",
        "#Import the DecisionTreeeClassifier\r\n",
        "from sklearn.tree import DecisionTreeClassifier\r\n",
        "# Load from the filename\r\n",
        "word2vec_df = pd.read_csv('/content/drive/MyDrive/StumbleUpon/Embeddings/Embeddingstrain_review_word2vec.csv')\r\n",
        "#Initialize the model\r\n",
        "clf_decision_word2vec = DecisionTreeClassifier()\r\n",
        "\r\n",
        "start_time = time.time()\r\n",
        "# Fit the model\r\n",
        "clf_decision_word2vec.fit(word2vec_df, Y_train)\r\n",
        "print(\"Time taken to fit the model with word2vec vectors: \" + str(time.time() - start_time))"
      ],
      "execution_count": 16,
      "outputs": [
        {
          "output_type": "stream",
          "text": [
            "Time taken to fit the model with word2vec vectors: 6.19443941116333\n"
          ],
          "name": "stdout"
        }
      ]
    },
    {
      "cell_type": "markdown",
      "metadata": {
        "id": "WONEMhcvQV9C"
      },
      "source": [
        "##Calculating Accuracy"
      ]
    },
    {
      "cell_type": "code",
      "metadata": {
        "colab": {
          "base_uri": "https://localhost:8080/"
        },
        "id": "Zp7kBN9cAdhQ",
        "outputId": "1a0e395f-4031-4fae-a79b-9e16d834f2cd"
      },
      "source": [
        "from sklearn.metrics import classification_report\r\n",
        "test_features_word2vec = []\r\n",
        "for index, row in X_test.to_frame().iterrows():\r\n",
        "    model_vector = np.mean([sg_w2v_model[token] for token in row['boilerplate']], axis=0)\r\n",
        "    if type(model_vector) is list:\r\n",
        "        test_features_word2vec.append(model_vector)\r\n",
        "    else:\r\n",
        "        test_features_word2vec.append(np.array([0 for i in range(1000)]))\r\n",
        "test_predictions_word2vec = clf_decision_word2vec.predict(test_features_word2vec)\r\n",
        "print(classification_report(Y_test,test_predictions_word2vec))"
      ],
      "execution_count": 17,
      "outputs": [
        {
          "output_type": "stream",
          "text": [
            "/usr/local/lib/python3.7/dist-packages/ipykernel_launcher.py:4: DeprecationWarning: Call to deprecated `__getitem__` (Method will be removed in 4.0.0, use self.wv.__getitem__() instead).\n",
            "  after removing the cwd from sys.path.\n"
          ],
          "name": "stderr"
        },
        {
          "output_type": "stream",
          "text": [
            "              precision    recall  f1-score   support\n",
            "\n",
            "           0       0.49      1.00      0.66      1093\n",
            "           1       0.00      0.00      0.00      1126\n",
            "\n",
            "    accuracy                           0.49      2219\n",
            "   macro avg       0.25      0.50      0.33      2219\n",
            "weighted avg       0.24      0.49      0.33      2219\n",
            "\n"
          ],
          "name": "stdout"
        },
        {
          "output_type": "stream",
          "text": [
            "/usr/local/lib/python3.7/dist-packages/sklearn/metrics/_classification.py:1272: UndefinedMetricWarning: Precision and F-score are ill-defined and being set to 0.0 in labels with no predicted samples. Use `zero_division` parameter to control this behavior.\n",
            "  _warn_prf(average, modifier, msg_start, len(result))\n"
          ],
          "name": "stderr"
        }
      ]
    },
    {
      "cell_type": "markdown",
      "metadata": {
        "id": "-06u_0t2QRpW"
      },
      "source": [
        "##Final Prediction"
      ]
    },
    {
      "cell_type": "code",
      "metadata": {
        "colab": {
          "base_uri": "https://localhost:8080/"
        },
        "id": "VcPyOzBhENYd",
        "outputId": "f71296d8-5c98-4be0-abf5-643a5b8fd8ec"
      },
      "source": [
        "test_features_word2vec = []\r\n",
        "for index, row in df_test_main.iterrows():\r\n",
        "    model_vector = np.mean([sg_w2v_model[token] for token in row['boilerplate']], axis=0)\r\n",
        "    if type(model_vector.tolist()) is list:\r\n",
        "        test_features_word2vec.append(model_vector)\r\n",
        "    else:\r\n",
        "        test_features_word2vec.append(np.array([0 for i in range(1000)]))\r\n",
        "test_predictions_word2vec = clf_decision_word2vec.predict(test_features_word2vec)"
      ],
      "execution_count": 25,
      "outputs": [
        {
          "output_type": "stream",
          "text": [
            "/usr/local/lib/python3.7/dist-packages/ipykernel_launcher.py:3: DeprecationWarning: Call to deprecated `__getitem__` (Method will be removed in 4.0.0, use self.wv.__getitem__() instead).\n",
            "  This is separate from the ipykernel package so we can avoid doing imports until\n"
          ],
          "name": "stderr"
        }
      ]
    }
  ]
}
